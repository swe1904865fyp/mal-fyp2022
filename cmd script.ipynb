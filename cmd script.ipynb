{
 "cells": [
  {
   "cell_type": "code",
   "execution_count": 1,
   "id": "caf5ea0b-2979-43ed-8b45-739abe15b78c",
   "metadata": {},
   "outputs": [],
   "source": [
    "import os\n",
    "import pandas as pd"
   ]
  },
  {
   "cell_type": "markdown",
   "id": "75f8306c-0453-4f3a-99a4-63ea9a0f4d13",
   "metadata": {},
   "source": [
    "## Read the csv ##"
   ]
  },
  {
   "cell_type": "code",
   "execution_count": 2,
   "id": "3b85db11-b90f-4996-bf01-a36c4576e5ab",
   "metadata": {},
   "outputs": [],
   "source": [
    "df = pd.read_csv(\"meta_mal_label.csv\")"
   ]
  },
  {
   "cell_type": "code",
   "execution_count": 3,
   "id": "8542f9c8-2e50-4f7b-9620-301c7ca7206c",
   "metadata": {},
   "outputs": [
    {
     "name": "stdout",
     "output_type": "stream",
     "text": [
      "                                              sha256  is_malware  \\\n",
      "0  047316c8118e6e4d088c4aaebab34a031e62ecc42ecefc...           1   \n",
      "1  997990bb784a9689e4293d788964c6a76ea7a1ff369a61...           1   \n",
      "2  0ff21b490a2afab69ed227823a30cb05824b634d577936...           1   \n",
      "\n",
      "        rl_fs_t  rl_ls_const_positives  adware  flooder  ransomware  dropper  \\\n",
      "0  1.483229e+09                      5       0        0           0        0   \n",
      "1  1.483229e+09                      6       0        0           0        0   \n",
      "2  1.483230e+09                      5       0        0           0        0   \n",
      "\n",
      "   spyware  packed  crypto_miner  file_infector  installer  worm  downloader  \n",
      "0        0       0             0              0          0     0           0  \n",
      "1        0       0             0              0          0     0           0  \n",
      "2        0       0             0              0          0     0           0  \n"
     ]
    }
   ],
   "source": [
    "print(df.head(3))"
   ]
  },
  {
   "cell_type": "markdown",
   "id": "4f653482-a53f-4cb8-ae46-827f9526c3d0",
   "metadata": {},
   "source": [
    "## Sort the db by the malware families ##"
   ]
  },
  {
   "cell_type": "code",
   "execution_count": 4,
   "id": "3ab3ee77-750a-4780-b9f5-b81e240bd55d",
   "metadata": {},
   "outputs": [
    {
     "name": "stdout",
     "output_type": "stream",
     "text": [
      "                                                    sha256  is_malware  \\\n",
      "3740678  79fc43de2857fa48d46262dc8e2b4e467504f915665626...           1   \n",
      "2874812  145d20b6bd102d0bc7839ba6c999e9fdaaa712ca1b1508...           1   \n",
      "9772124  d68e7352e0587147eec6a22e6197bb3ed5638239d9f644...           1   \n",
      "\n",
      "              rl_fs_t  rl_ls_const_positives  adware  flooder  ransomware  \\\n",
      "3740678  1.523516e+09                     26      36        0           0   \n",
      "2874812  1.515794e+09                     24      35        0           0   \n",
      "9772124  1.553684e+09                     24      35        0           0   \n",
      "\n",
      "         dropper  spyware  packed  crypto_miner  file_infector  installer  \\\n",
      "3740678        2        0       1             0              0          7   \n",
      "2874812        2        0       1             0              0          7   \n",
      "9772124        1        1       0             0              0          6   \n",
      "\n",
      "         worm  downloader  \n",
      "3740678     0           1  \n",
      "2874812     0           1  \n",
      "9772124     0           0  \n"
     ]
    }
   ],
   "source": [
    "sorted_adware = df.sort_values(by=[\"adware\"], ascending=False)\n",
    "print(sorted_adware.head(3))"
   ]
  },
  {
   "cell_type": "markdown",
   "id": "8e3e6435-4796-4390-b4e9-60f14399392b",
   "metadata": {
    "tags": []
   },
   "source": [
    "## Locate a specific SHA256 method ##"
   ]
  },
  {
   "cell_type": "code",
   "execution_count": 5,
   "id": "17d546e8-c2b6-42a9-8bd0-9dfd8d51f61d",
   "metadata": {},
   "outputs": [
    {
     "data": {
      "text/html": [
       "<div>\n",
       "<style scoped>\n",
       "    .dataframe tbody tr th:only-of-type {\n",
       "        vertical-align: middle;\n",
       "    }\n",
       "\n",
       "    .dataframe tbody tr th {\n",
       "        vertical-align: top;\n",
       "    }\n",
       "\n",
       "    .dataframe thead th {\n",
       "        text-align: right;\n",
       "    }\n",
       "</style>\n",
       "<table border=\"1\" class=\"dataframe\">\n",
       "  <thead>\n",
       "    <tr style=\"text-align: right;\">\n",
       "      <th></th>\n",
       "      <th>sha256</th>\n",
       "      <th>is_malware</th>\n",
       "      <th>rl_fs_t</th>\n",
       "      <th>rl_ls_const_positives</th>\n",
       "      <th>adware</th>\n",
       "      <th>flooder</th>\n",
       "      <th>ransomware</th>\n",
       "      <th>dropper</th>\n",
       "      <th>spyware</th>\n",
       "      <th>packed</th>\n",
       "      <th>crypto_miner</th>\n",
       "      <th>file_infector</th>\n",
       "      <th>installer</th>\n",
       "      <th>worm</th>\n",
       "      <th>downloader</th>\n",
       "    </tr>\n",
       "  </thead>\n",
       "  <tbody>\n",
       "    <tr>\n",
       "      <th>0</th>\n",
       "      <td>047316c8118e6e4d088c4aaebab34a031e62ecc42ecefc...</td>\n",
       "      <td>1</td>\n",
       "      <td>1.483229e+09</td>\n",
       "      <td>5</td>\n",
       "      <td>0</td>\n",
       "      <td>0</td>\n",
       "      <td>0</td>\n",
       "      <td>0</td>\n",
       "      <td>0</td>\n",
       "      <td>0</td>\n",
       "      <td>0</td>\n",
       "      <td>0</td>\n",
       "      <td>0</td>\n",
       "      <td>0</td>\n",
       "      <td>0</td>\n",
       "    </tr>\n",
       "  </tbody>\n",
       "</table>\n",
       "</div>"
      ],
      "text/plain": [
       "                                              sha256  is_malware  \\\n",
       "0  047316c8118e6e4d088c4aaebab34a031e62ecc42ecefc...           1   \n",
       "\n",
       "        rl_fs_t  rl_ls_const_positives  adware  flooder  ransomware  dropper  \\\n",
       "0  1.483229e+09                      5       0        0           0        0   \n",
       "\n",
       "   spyware  packed  crypto_miner  file_infector  installer  worm  downloader  \n",
       "0        0       0             0              0          0     0           0  "
      ]
     },
     "execution_count": 5,
     "metadata": {},
     "output_type": "execute_result"
    }
   ],
   "source": [
    "df.loc[df['sha256'] == \"047316c8118e6e4d088c4aaebab34a031e62ecc42ecefc4cf0c3d4f9eb91dc30\"]"
   ]
  },
  {
   "cell_type": "markdown",
   "id": "df050937-c975-4c6f-a3aa-84e80c4629b5",
   "metadata": {},
   "source": [
    "## Adware list ##"
   ]
  },
  {
   "cell_type": "code",
   "execution_count": 6,
   "id": "99fd2f75-6ff1-4729-9fee-64ae8ef5ed70",
   "metadata": {},
   "outputs": [
    {
     "name": "stdout",
     "output_type": "stream",
     "text": [
      "['79fc43de2857fa48d46262dc8e2b4e467504f915665626057edd0a52377a9270', '145d20b6bd102d0bc7839ba6c999e9fdaaa712ca1b1508a151cf5cb8e6b9314d', 'd68e7352e0587147eec6a22e6197bb3ed5638239d9f644d9b896732c8e97b5c7', 'e9be1bd5f29756b8ca2b37467fdbc16f106f102210016758ff4b4c58095a4c7d', '9ba1822467270220b67aa563bf3dac29853a751b22681d5d2f9a3c9df66ebfeb']\n",
      "     index                                             sha256  is_malware  \\\n",
      "5    81544  f69c187d687c1929dd68e4e38039a41271a036525be45e...           1   \n",
      "6  9747529  08f9d4c077f62deb87b17238ac2fa55f81cb63139408f9...           1   \n",
      "7  9772066  ad5ff4c89c88007f604ef0f98ec6e4da37acabd3fb5a58...           1   \n",
      "8  3424527  0165607397098be2dbd3bec66a1283401df86e21177f89...           1   \n",
      "9  8213186  1cece67fef6df52f54f5bd6e8ae85c6fe8449c48961cde...           1   \n",
      "\n",
      "        rl_fs_t  rl_ls_const_positives  adware  flooder  ransomware  dropper  \\\n",
      "5  1.489400e+09                     22      35        0           0        2   \n",
      "6  1.553507e+09                     24      35        0           0        1   \n",
      "7  1.553683e+09                     25      35        0           0        1   \n",
      "8  1.520738e+09                     24      34        0           0        1   \n",
      "9  1.545897e+09                     25      34        0           0        1   \n",
      "\n",
      "   spyware  packed  crypto_miner  file_infector  installer  worm  downloader  \n",
      "5        0       0             0              0          6     0           0  \n",
      "6        0       0             0              0          7     0           0  \n",
      "7        1       0             0              0          6     0           0  \n",
      "8        1       0             0              1          6     0           0  \n",
      "9        1       0             0              1          6     0           0  \n"
     ]
    }
   ],
   "source": [
    "top_adware_list = []\n",
    "sorted_adware = sorted_adware.reset_index()\n",
    "for index, row in sorted_adware.iloc[:5].iterrows():\n",
    "    top_adware_list.append(row.sha256)\n",
    "    sorted_adware = sorted_adware.drop(index)\n",
    "print(top_adware_list)\n",
    "print(sorted_adware.head())"
   ]
  },
  {
   "cell_type": "code",
   "execution_count": 7,
   "id": "5fb6c9d5-abe3-4533-b9ec-a31a223b7ad9",
   "metadata": {},
   "outputs": [
    {
     "name": "stdout",
     "output_type": "stream",
     "text": [
      "Current working directory  C:\\Users\\USER\\Desktop\\SWE407 FYP2\n"
     ]
    }
   ],
   "source": [
    "os.chdir(\"C:\\\\Users\\\\USER\\\\Desktop\\\\SWE407 FYP2\")\n",
    "print(\"Current working directory \", os.getcwd())"
   ]
  },
  {
   "cell_type": "code",
   "execution_count": 8,
   "id": "86bd6e41-43ff-473b-92eb-6d1809227004",
   "metadata": {},
   "outputs": [
    {
     "data": {
      "text/plain": [
       "0"
      ]
     },
     "execution_count": 8,
     "metadata": {},
     "output_type": "execute_result"
    }
   ],
   "source": [
    "os.system(f\"type nul > {top_adware_list[0]}.txt\")"
   ]
  },
  {
   "cell_type": "code",
   "execution_count": 9,
   "id": "25a4a109-aa41-4310-8c3f-9053fc1684fa",
   "metadata": {},
   "outputs": [],
   "source": [
    "os.mkdir(f\"{top_adware_list[1]}\")"
   ]
  },
  {
   "cell_type": "code",
   "execution_count": null,
   "id": "df13aeef-1687-4998-b35d-aa7dca723dae",
   "metadata": {},
   "outputs": [],
   "source": []
  }
 ],
 "metadata": {
  "kernelspec": {
   "display_name": "Python 3 (ipykernel)",
   "language": "python",
   "name": "python3"
  },
  "language_info": {
   "codemirror_mode": {
    "name": "ipython",
    "version": 3
   },
   "file_extension": ".py",
   "mimetype": "text/x-python",
   "name": "python",
   "nbconvert_exporter": "python",
   "pygments_lexer": "ipython3",
   "version": "3.10.2"
  }
 },
 "nbformat": 4,
 "nbformat_minor": 5
}
