{
 "cells": [
  {
   "cell_type": "markdown",
   "id": "4b82293a-d98e-4d65-8e8f-d095f64cf2ea",
   "metadata": {},
   "source": [
    "## Import pandas ##"
   ]
  },
  {
   "cell_type": "code",
   "execution_count": 1,
   "id": "9a42ef72-fa96-4222-8f15-dd1dbe635f4b",
   "metadata": {},
   "outputs": [],
   "source": [
    "import pandas as pd"
   ]
  },
  {
   "cell_type": "markdown",
   "id": "552971ca-4aa0-4619-bb34-46d9ba88d1d8",
   "metadata": {},
   "source": [
    "## Define Malware Family ##"
   ]
  },
  {
   "cell_type": "code",
   "execution_count": 2,
   "id": "2e331104-9744-4056-b85d-894cab5930e1",
   "metadata": {},
   "outputs": [],
   "source": [
    "family_list = [\"adware\", \"flooder\", \"ransomware\", \"dropper\", \"spyware\", \"packed\", \"crypto_miner\", \"file_infector\", \"installer\", \"worm\", \"downloader\"]"
   ]
  },
  {
   "cell_type": "markdown",
   "id": "a009fd7b-382a-4fc7-9e5a-0bb20c417151",
   "metadata": {},
   "source": [
    "## Import .csv as DataFrame and collect N=100 samples from each family ##"
   ]
  },
  {
   "cell_type": "code",
   "execution_count": 3,
   "id": "081d47c4-3d7b-4bcd-9781-1337ce2f014c",
   "metadata": {},
   "outputs": [],
   "source": [
    "df = pd.read_csv(\"meta_mal_label.csv\")\n",
    "ori = df.copy()"
   ]
  },
  {
   "cell_type": "code",
   "execution_count": 4,
   "id": "9fbcfafb-a7c1-4c3a-ab9e-f0dbb1021c86",
   "metadata": {},
   "outputs": [
    {
     "name": "stdout",
     "output_type": "stream",
     "text": [
      "1. Collecting adware...\n",
      "Family adware done!\n",
      "2. Collecting flooder...\n",
      "Family flooder done!\n",
      "3. Collecting ransomware...\n",
      "Family ransomware done!\n",
      "4. Collecting dropper...\n",
      "Family dropper done!\n",
      "5. Collecting spyware...\n",
      "Family spyware done!\n",
      "6. Collecting packed...\n",
      "Family packed done!\n",
      "7. Collecting crypto_miner...\n",
      "Family crypto_miner done!\n",
      "8. Collecting file_infector...\n",
      "Family file_infector done!\n",
      "9. Collecting installer...\n",
      "Family installer done!\n",
      "10. Collecting worm...\n",
      "Family worm done!\n",
      "11. Collecting downloader...\n",
      "Family downloader done!\n",
      "Dataset Cleaned!!!\n",
      "(9962820, 15) (9961720, 15) 1100\n"
     ]
    }
   ],
   "source": [
    "df = ori.copy()\n",
    "cleaned_dataset = []\n",
    "i=1\n",
    "for family in family_list:\n",
    "    df = df.sort_values(by=[family], ascending=False)\n",
    "    df = df.reset_index(drop=True)\n",
    "    temp_list = []\n",
    "    N=100\n",
    "    print(f\"{i}. Collecting {family}...\")\n",
    "    i = i + 1\n",
    "    for index, row in df.iloc[:N].iterrows():\n",
    "        temp_list.append(row.sha256)\n",
    "    cleaned_dataset.append(temp_list)\n",
    "    df = df.iloc[N: , :]\n",
    "    print(f\"Family {family} done!\")\n",
    "\n",
    "print(\"Dataset Cleaned!!!\")\n",
    "print(ori.shape, df.shape, ori.shape[0] - df.shape[0])    "
   ]
  },
  {
   "cell_type": "markdown",
   "id": "74f5806f-7d4f-4baa-a05c-f99830257a9f",
   "metadata": {},
   "source": [
    "## Process collected data back into dataframe ##"
   ]
  },
  {
   "cell_type": "code",
   "execution_count": 5,
   "id": "97dda115-3808-4c7c-858b-af7a434c3700",
   "metadata": {},
   "outputs": [],
   "source": [
    "index = 0\n",
    "a=[]\n",
    "b=[]\n",
    "data = {\"sha256\":a, \"malware_type\":b}\n",
    "for family in family_list:\n",
    "    for malware in range(N):\n",
    "        a.append(cleaned_dataset[index][malware])\n",
    "        b.append(family)\n",
    "    index = index + 1\n",
    "df_clean = pd.DataFrame(data)"
   ]
  },
  {
   "cell_type": "markdown",
   "id": "cc01262f-6101-42f5-b0f9-1f43cbc7a288",
   "metadata": {},
   "source": [
    "## Inner join the collected data back into the original file ##"
   ]
  },
  {
   "cell_type": "code",
   "execution_count": 6,
   "id": "2d8b7142-ec1f-49cf-ad9b-fdf9fb97dfae",
   "metadata": {},
   "outputs": [],
   "source": [
    "df = ori.copy()\n",
    "df_inner = pd.merge(df, df_clean, on='sha256', how='inner')"
   ]
  },
  {
   "cell_type": "code",
   "execution_count": 7,
   "id": "8b109ab0-456a-48a9-9395-9eb274feff3c",
   "metadata": {},
   "outputs": [],
   "source": [
    "df_inner.drop(\"is_malware\",inplace=True, axis=1)\n",
    "df_inner.drop(\"rl_fs_t\",inplace=True, axis=1)\n",
    "df_inner.drop(\"rl_ls_const_positives\",inplace=True, axis=1)"
   ]
  },
  {
   "cell_type": "code",
   "execution_count": 8,
   "id": "e6cc8b86-26cf-4d36-8034-7c10a8f71000",
   "metadata": {},
   "outputs": [],
   "source": [
    "df_inner = df_inner.sort_values(\"malware_type\")\n",
    "df_inner = df_inner[[\"sha256\",\"malware_type\",\"adware\",\"crypto_miner\",\"downloader\",\"dropper\",\"file_infector\",\"flooder\",\"installer\",\"packed\",\n",
    "                    \"ransomware\",\"spyware\",\"worm\"]]"
   ]
  },
  {
   "cell_type": "markdown",
   "id": "18479b81-ba4b-4aea-82f0-fb71bcf44257",
   "metadata": {},
   "source": [
    "## Export the cleaned data as .csv ##"
   ]
  },
  {
   "cell_type": "code",
   "execution_count": 9,
   "id": "8ba69bff-c995-47f3-a1fd-45cca61427be",
   "metadata": {},
   "outputs": [],
   "source": [
    "df_inner.to_csv(\"cleaned_1100.csv\", index=False)"
   ]
  }
 ],
 "metadata": {
  "kernelspec": {
   "display_name": "Python 3 (ipykernel)",
   "language": "python",
   "name": "python3"
  },
  "language_info": {
   "codemirror_mode": {
    "name": "ipython",
    "version": 3
   },
   "file_extension": ".py",
   "mimetype": "text/x-python",
   "name": "python",
   "nbconvert_exporter": "python",
   "pygments_lexer": "ipython3",
   "version": "3.10.2"
  }
 },
 "nbformat": 4,
 "nbformat_minor": 5
}
